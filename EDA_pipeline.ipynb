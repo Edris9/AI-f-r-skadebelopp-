{
 "cells": [
  {
   "cell_type": "code",
   "execution_count": 1,
   "id": "d14ab5b5",
   "metadata": {},
   "outputs": [],
   "source": [
    "import pandas as pd\n",
    "import spacy\n",
    "import re"
   ]
  },
  {
   "cell_type": "code",
   "execution_count": 3,
   "id": "5badf93e",
   "metadata": {},
   "outputs": [],
   "source": [
    "df = pd.read_csv(r\"C:\\Users\\Edris\\Desktop\\Python Programmeri ng\\Stice\\skadebelopp\\skade belopp\\data.csv\")"
   ]
  },
  {
   "cell_type": "code",
   "execution_count": 4,
   "id": "9384cc8a",
   "metadata": {},
   "outputs": [
    {
     "name": "stdout",
     "output_type": "stream",
     "text": [
      "<class 'pandas.core.frame.DataFrame'>\n",
      "RangeIndex: 7000 entries, 0 to 6999\n",
      "Data columns (total 20 columns):\n",
      " #   Column                  Non-Null Count  Dtype \n",
      "---  ------                  --------------  ----- \n",
      " 0   Unnamed: 0              7000 non-null   int64 \n",
      " 1   Id                      7000 non-null   object\n",
      " 2   Domstol                 7000 non-null   object\n",
      " 3   Malnummer               6489 non-null   object\n",
      " 4   Domsnummer              2208 non-null   object\n",
      " 5   Avgorandedatum          6588 non-null   object\n",
      " 6   Referat dom             6589 non-null   object\n",
      " 7   Avdelning               6586 non-null   object\n",
      " 8   Rubrik                  7000 non-null   object\n",
      " 9   Lagrum                  6594 non-null   object\n",
      " 10  Rattsfall               3899 non-null   object\n",
      " 11  Referat                 7000 non-null   object\n",
      " 12  Sammanfattning          7000 non-null   object\n",
      " 13  Utfall                  7000 non-null   object\n",
      " 14  Sokord                  7000 non-null   object\n",
      " 15  Litteratur              1318 non-null   object\n",
      " 16  Rattsomraden            7000 non-null   object\n",
      " 17  Anvandarfragor          7000 non-null   object\n",
      " 18  Prejudikatvarde         7000 non-null   object\n",
      " 19  Avgorande_rattsprincip  7000 non-null   object\n",
      "dtypes: int64(1), object(19)\n",
      "memory usage: 1.1+ MB\n"
     ]
    }
   ],
   "source": [
    "df.info()"
   ]
  },
  {
   "cell_type": "markdown",
   "id": "a5c9c19d",
   "metadata": {},
   "source": [
    "# i denna cell kommer vi att skapa meningar som berättar vad som hände i fallet, vi förbredder detta för lokal maskin ska lebela de med vår utvalda ord "
   ]
  },
  {
   "cell_type": "code",
   "execution_count": 5,
   "id": "a5ad1285",
   "metadata": {},
   "outputs": [
    {
     "name": "stdout",
     "output_type": "stream",
     "text": [
      "Hittade 26680 korta, begripliga meningar.\n"
     ]
    }
   ],
   "source": [
    "import pandas as pd\n",
    "import spacy\n",
    "import re\n",
    "\n",
    "nlp = spacy.load(\"xx_ent_wiki_sm\")\n",
    "nlp.add_pipe(\"sentencizer\")\n",
    "\n",
    "\n",
    "def extract_belopp(text):\n",
    "    pattern = r'(\\d[\\d\\s\\u00a0\\u202f]*)(?=\\s*(kr|kronor|sek))'\n",
    "    matches = re.findall(pattern, text.lower())\n",
    "    # Ta bort alla typer av mellanslag\n",
    "    return [int(re.sub(r'[\\s\\u00a0\\u202f]', '', m[0])) for m in matches if m[0]]\n",
    "\n",
    "def clean_summary(sent, belopp):\n",
    "    subj = \"\"\n",
    "    obj = \"\"\n",
    "    for token in sent:\n",
    "        if token.dep_ in (\"nsubj\", \"nsubj:pass\") and not subj:\n",
    "            subj = token.text\n",
    "        elif token.dep_ in (\"dobj\", \"obj\", \"iobj\") and not obj:\n",
    "            obj = token.text\n",
    "    if subj and obj:\n",
    "        return f\"{subj} ska betala {belopp[0]} kr till {obj}\"\n",
    "    elif subj:\n",
    "        return f\"{subj} ska betala {belopp[0]} kr\"\n",
    "    else:\n",
    "        return sent.text.strip()\n",
    "\n",
    "results = []\n",
    "seen_ids = set()\n",
    "\n",
    "# Lägg till felhantering för debugging\n",
    "for idx, (_, row) in enumerate(df.iterrows()):\n",
    "    try:\n",
    "        all_text = ' '.join(str(row[col]) for col in df.columns)\n",
    "        doc = nlp(all_text)\n",
    "        for sent in doc.sents:\n",
    "            if len(sent.text.split()) > 40:\n",
    "                continue\n",
    "            text = sent.text.lower()\n",
    "            if any(term in text for term in ['kr', 'sek', 'skadebelopp']):\n",
    "                belopp = extract_belopp(sent.text)\n",
    "                if belopp:\n",
    "                    summary = clean_summary(sent, belopp)\n",
    "                    uid = f\"{row['Id']}_{summary}\"\n",
    "                    if uid not in seen_ids:\n",
    "                        seen_ids.add(uid)\n",
    "                        results.append({\n",
    "                            \"id\": row[\"Id\"],\n",
    "                            \"rubrik\": row[\"Rubrik\"],\n",
    "                            \"utfall\": row[\"Utfall\"],\n",
    "                            \"kort_mening\": summary,\n",
    "                            \"belopp\": belopp\n",
    "                        })\n",
    "    except Exception as e:\n",
    "        print(f\"Fel vid rad {idx}: {e}\")\n",
    "        # Valfritt: Skriv ut problematisk text för att hjälpa med debugging\n",
    "        if 'sent' in locals():\n",
    "            print(f\"Problematisk mening: {sent.text}\")\n",
    "\n",
    "print(f\"Hittade {len(results)} korta, begripliga meningar.\")\n",
    "\n",
    "# Spara som CSV istället för JSON\n",
    "output_df = pd.DataFrame(results)\n",
    "output_df.to_csv(\"adjust_data_big_data.csv\", index=False, encoding=\"utf-8\")"
   ]
  }
 ],
 "metadata": {
  "kernelspec": {
   "display_name": "Python 3",
   "language": "python",
   "name": "python3"
  },
  "language_info": {
   "codemirror_mode": {
    "name": "ipython",
    "version": 3
   },
   "file_extension": ".py",
   "mimetype": "text/x-python",
   "name": "python",
   "nbconvert_exporter": "python",
   "pygments_lexer": "ipython3",
   "version": "3.12.4"
  }
 },
 "nbformat": 4,
 "nbformat_minor": 5
}
